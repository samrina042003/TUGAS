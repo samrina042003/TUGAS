{
  "nbformat": 4,
  "nbformat_minor": 0,
  "metadata": {
    "colab": {
      "name": "Pekan 13",
      "provenance": [],
      "collapsed_sections": [],
      "authorship_tag": "ABX9TyNXl4cTIGesOPBNPfxMPgOP",
      "include_colab_link": true
    },
    "kernelspec": {
      "name": "python3",
      "display_name": "Python 3"
    },
    "language_info": {
      "name": "python"
    }
  },
  "cells": [
    {
      "cell_type": "markdown",
      "metadata": {
        "id": "view-in-github",
        "colab_type": "text"
      },
      "source": [
        "<a href=\"https://colab.research.google.com/github/samrina042003/TUGAS/blob/main/Pekan_13.ipynb\" target=\"_parent\"><img src=\"https://colab.research.google.com/assets/colab-badge.svg\" alt=\"Open In Colab\"/></a>"
      ]
    },
    {
      "cell_type": "code",
      "execution_count": null,
      "metadata": {
        "colab": {
          "base_uri": "https://localhost:8080/"
        },
        "id": "DTdXSLEWeVPn",
        "outputId": "43074ec4-a51a-4252-b934-e8b97f087263"
      },
      "outputs": [
        {
          "output_type": "stream",
          "name": "stdout",
          "text": [
            "1 2 3 4 5 6 7 8 9 10 11 12 13 14 15 16 17 18 19 20 21 22 23 24 25 26 27 28 29 30 31 32 33 34 35 36 37 38 39 40 41 42 43 44 45 46 47 48 49 50 51 52 53 54 55 56 57 58 59 60 61 62 63 64 65 66 67 68 69 70 71 72 73 74 75 76 77 78 79 80 81 82 83 84 85 86 87 88 89 90 91 92 93 94 95 96 97 98 99 100 "
          ]
        }
      ],
      "source": [
        "for i in range(1,101,1):\n",
        "  print(i, end= ' ') #end untuk memberikan spasi"
      ]
    },
    {
      "cell_type": "code",
      "source": [
        "#penggunaan range(nilai akhir, nilai awal, pencacah)\n",
        "for i in range(1,101,1):\n",
        "  print(i)"
      ],
      "metadata": {
        "colab": {
          "base_uri": "https://localhost:8080/"
        },
        "id": "X5aG3-QshI_L",
        "outputId": "f5c4f816-5d3e-4dd0-a7be-1ae1653358e2"
      },
      "execution_count": null,
      "outputs": [
        {
          "output_type": "stream",
          "name": "stdout",
          "text": [
            "1\n",
            "2\n",
            "3\n",
            "4\n",
            "5\n",
            "6\n",
            "7\n",
            "8\n",
            "9\n",
            "10\n",
            "11\n",
            "12\n",
            "13\n",
            "14\n",
            "15\n",
            "16\n",
            "17\n",
            "18\n",
            "19\n",
            "20\n",
            "21\n",
            "22\n",
            "23\n",
            "24\n",
            "25\n",
            "26\n",
            "27\n",
            "28\n",
            "29\n",
            "30\n",
            "31\n",
            "32\n",
            "33\n",
            "34\n",
            "35\n",
            "36\n",
            "37\n",
            "38\n",
            "39\n",
            "40\n",
            "41\n",
            "42\n",
            "43\n",
            "44\n",
            "45\n",
            "46\n",
            "47\n",
            "48\n",
            "49\n",
            "50\n",
            "51\n",
            "52\n",
            "53\n",
            "54\n",
            "55\n",
            "56\n",
            "57\n",
            "58\n",
            "59\n",
            "60\n",
            "61\n",
            "62\n",
            "63\n",
            "64\n",
            "65\n",
            "66\n",
            "67\n",
            "68\n",
            "69\n",
            "70\n",
            "71\n",
            "72\n",
            "73\n",
            "74\n",
            "75\n",
            "76\n",
            "77\n",
            "78\n",
            "79\n",
            "80\n",
            "81\n",
            "82\n",
            "83\n",
            "84\n",
            "85\n",
            "86\n",
            "87\n",
            "88\n",
            "89\n",
            "90\n",
            "91\n",
            "92\n",
            "93\n",
            "94\n",
            "95\n",
            "96\n",
            "97\n",
            "98\n",
            "99\n",
            "100\n"
          ]
        }
      ]
    },
    {
      "cell_type": "code",
      "source": [
        "for i in range(1,5):\n",
        "  print(i, end= ' ')"
      ],
      "metadata": {
        "colab": {
          "base_uri": "https://localhost:8080/"
        },
        "id": "NgL0NsyyhV-y",
        "outputId": "1748d423-9d5c-4787-b5b1-9b94b7698da7"
      },
      "execution_count": null,
      "outputs": [
        {
          "output_type": "stream",
          "name": "stdout",
          "text": [
            "1 2 3 4 "
          ]
        }
      ]
    },
    {
      "cell_type": "code",
      "source": [
        "for i in range(1,5,2):\n",
        "  print(i, end= ' ')"
      ],
      "metadata": {
        "colab": {
          "base_uri": "https://localhost:8080/"
        },
        "id": "Wv7dQctoh9DB",
        "outputId": "f952ecab-4b31-44f8-f8a0-8e6ea9af9e07"
      },
      "execution_count": null,
      "outputs": [
        {
          "output_type": "stream",
          "name": "stdout",
          "text": [
            "1 3 "
          ]
        }
      ]
    },
    {
      "cell_type": "code",
      "source": [
        "#penggunaan range(nilai akhir, nilai awal)"
      ],
      "metadata": {
        "id": "eh_iEiYjiGCt"
      },
      "execution_count": null,
      "outputs": []
    },
    {
      "cell_type": "code",
      "source": [
        "for i in range(1,5):\n",
        "  print(i, end= ' ')"
      ],
      "metadata": {
        "colab": {
          "base_uri": "https://localhost:8080/"
        },
        "id": "IOVsvdAJicI6",
        "outputId": "ad5e052c-1d2c-4cbd-ac6e-6277c3e3540e"
      },
      "execution_count": null,
      "outputs": [
        {
          "output_type": "stream",
          "name": "stdout",
          "text": [
            "1 2 3 4 "
          ]
        }
      ]
    },
    {
      "cell_type": "code",
      "source": [
        "awal=int(input('Set Nilai Awal= '))\n",
        "akhir=int(input('Set Nilai Akhir= '))\n",
        "\n",
        "count=0\n",
        "summ=0\n",
        "\n",
        "print('Bilangan antara %d dan %d' %(awal,akhir))\n",
        "\n",
        "for i in range(awal,akhir+1):\n",
        "  print(i, end=' ')\n",
        "  count=count+1\n",
        "  summ=summ+i\n",
        "print('Bilangan di atas ada %d bilangan' %count)\n",
        "print('Jumlah semua bilangan adalah %d' %summ)"
      ],
      "metadata": {
        "colab": {
          "base_uri": "https://localhost:8080/"
        },
        "id": "im0v4ix6iebD",
        "outputId": "2fbbed97-3383-4b8b-8c41-8c4f7c1e147c"
      },
      "execution_count": null,
      "outputs": [
        {
          "output_type": "stream",
          "name": "stdout",
          "text": [
            "Set Nilai Awal= 1\n",
            "Set Nilai Akhir= 4\n",
            "Bilangan antara 1 dan 4\n",
            "1 2 3 4 Bilangan di atas ada 4 bilangan\n",
            "Jumlah semua bilangan adalah 10\n"
          ]
        }
      ]
    },
    {
      "cell_type": "code",
      "source": [
        "awal=int(input('Set Nilai Awal= '))\n",
        "akhir=int(input('Set Nilai Akhir= '))\n",
        "\n",
        "times=1\n",
        "\n",
        "for i in range(awal,akhir+1,3):\n",
        "  print(i, end=' ')\n",
        "  times=times*i\n",
        "print('Hasil perkalian seluruh bilangan adalah %d' %times)\n",
        "\n",
        "\n",
        "  "
      ],
      "metadata": {
        "colab": {
          "base_uri": "https://localhost:8080/"
        },
        "id": "feqn5ve-l5W7",
        "outputId": "fd58500a-1d71-49e7-f08d-40bb9551a2ca"
      },
      "execution_count": null,
      "outputs": [
        {
          "output_type": "stream",
          "name": "stdout",
          "text": [
            "Set Nilai Awal= 1\n",
            "Set Nilai Akhir= 30\n",
            "1 4 7 10 13 16 19 22 25 28 Hasil perkalian seluruh bilangan adalah 17041024000\n"
          ]
        }
      ]
    },
    {
      "cell_type": "code",
      "source": [
        "for i in range(5):\n",
        "  print(i,end=' ')"
      ],
      "metadata": {
        "colab": {
          "base_uri": "https://localhost:8080/"
        },
        "id": "oKjuwNKupCdn",
        "outputId": "a114472a-bda7-4e55-fe58-a18479c5a066"
      },
      "execution_count": null,
      "outputs": [
        {
          "output_type": "stream",
          "name": "stdout",
          "text": [
            "0 1 2 3 4 "
          ]
        }
      ]
    },
    {
      "cell_type": "code",
      "source": [
        "for i in range(5+1):\n",
        "  print(i,end=' ')"
      ],
      "metadata": {
        "colab": {
          "base_uri": "https://localhost:8080/"
        },
        "id": "Qmvf32JypfdO",
        "outputId": "38c3e9b0-c547-4d50-de38-bb98ec306722"
      },
      "execution_count": null,
      "outputs": [
        {
          "output_type": "stream",
          "name": "stdout",
          "text": [
            "0 1 2 3 4 5 "
          ]
        }
      ]
    },
    {
      "cell_type": "code",
      "source": [
        "for x in range(1,3):\n",
        "  for y in range(1,3):\n",
        "    print(x,y,x*y)"
      ],
      "metadata": {
        "colab": {
          "base_uri": "https://localhost:8080/"
        },
        "id": "PjetVRDupvkd",
        "outputId": "3f29b5d7-f803-4186-c9ec-87c582f2a833"
      },
      "execution_count": null,
      "outputs": [
        {
          "output_type": "stream",
          "name": "stdout",
          "text": [
            "1 1 1\n",
            "1 2 2\n",
            "2 1 2\n",
            "2 2 4\n"
          ]
        }
      ]
    },
    {
      "cell_type": "code",
      "source": [
        "for x in range(2,5):\n",
        "  for y in range(2,5):\n",
        "    print(x,y,x*y)"
      ],
      "metadata": {
        "colab": {
          "base_uri": "https://localhost:8080/"
        },
        "id": "smMCtEfOrNft",
        "outputId": "d92e9d08-86c1-4656-8f2d-67396a76c1d9"
      },
      "execution_count": null,
      "outputs": [
        {
          "output_type": "stream",
          "name": "stdout",
          "text": [
            "2 2 4\n",
            "2 3 6\n",
            "2 4 8\n",
            "3 2 6\n",
            "3 3 9\n",
            "3 4 12\n",
            "4 2 8\n",
            "4 3 12\n",
            "4 4 16\n"
          ]
        }
      ]
    },
    {
      "cell_type": "code",
      "source": [
        "banyakmahasiswa = int(input('Banyak Mahasiswa : '))\n",
        "for M in range (banyakmahasiswa) :\n",
        "  print ('Mahasiswa ke-', M+1)\n",
        "  banyakMK = int(input('Banyak Matakuliah yang diambil :'))\n",
        "  totalnilai=0\n",
        "  for N in range (banyakMK):\n",
        "    nilai=int(input('input nilai ke %d:' %(N+1)))\n",
        "    totalnilai=totalnilai+nilai\n",
        "  rerata=totalnilai/banyakMK\n",
        "  print('Rata-rata :', rerata)"
      ],
      "metadata": {
        "colab": {
          "base_uri": "https://localhost:8080/"
        },
        "id": "nzix3LResEv2",
        "outputId": "913b166b-a2b5-4018-84c8-b1998c6971af"
      },
      "execution_count": null,
      "outputs": [
        {
          "output_type": "stream",
          "name": "stdout",
          "text": [
            "Banyak Mahasiswa : 2\n",
            "Mahasiswa ke- 1\n",
            "Banyak Matakuliah yang diambil :2\n",
            "input nilai ke 1:75\n",
            "input nilai ke 2:80\n",
            "Rata-rata : 77.5\n",
            "Mahasiswa ke- 2\n",
            "Banyak Matakuliah yang diambil :2\n",
            "input nilai ke 1:60\n",
            "input nilai ke 2:90\n",
            "Rata-rata : 75.0\n"
          ]
        }
      ]
    },
    {
      "cell_type": "code",
      "source": [
        "def cetak_matriks(matriks):\n",
        "  for row in matriks:\n",
        "    print row\n",
        "\n",
        "def panjang_matriks(matriks):\n",
        "  return len(matriks[0])\n",
        "\n",
        "def lebar_matriks(matriks):\n",
        "  return len(matriks)\n",
        "\n",
        "def jumlahkan_matriks(mat_a,mat_b):\n",
        "  temp_row=[]\n",
        "  temp_mat=[]\n",
        "\n",
        "  for i in range(0,lebar_matriks(mat_a)):\n",
        "    for j in range(0,panjang_matriks(mat_a)):\n",
        "      temp_row.append(mat_a[i][j]+mat_b[i][j])\n",
        "    temp_mat.append(temp_row)\n",
        "    temp_row=[]\n",
        "  return temp_mat\n",
        "  \n",
        "  matriks_a=[[1,2,3,5][1,2,3,5],[1,2,3,5]]\n",
        "  matriks_b=[[1,1,1,1][1,1,1,1][1,1,1,1]]\n",
        "\n",
        "  print \"matriks_a :\"\n",
        "  cetak_matriks(matriks_a)\n",
        "\n",
        "  print \"\\matriks_b :\"\n",
        "  cetak_matriks(matriks_b)\n",
        "\n",
        "  print \"\\hasil penjumlahan :\"\n",
        "  hasil=jumlahkan_matriks(matriks_a,matriks_b)\n",
        "  cetak_matriks(hasil)"
      ],
      "metadata": {
        "colab": {
          "base_uri": "https://localhost:8080/",
          "height": 130
        },
        "id": "JA1anu3Jtmzw",
        "outputId": "56076d95-5879-433c-8962-f0ed36c92265"
      },
      "execution_count": null,
      "outputs": [
        {
          "output_type": "error",
          "ename": "SyntaxError",
          "evalue": "ignored",
          "traceback": [
            "\u001b[0;36m  File \u001b[0;32m\"<ipython-input-9-58c3a21a0f3e>\"\u001b[0;36m, line \u001b[0;32m3\u001b[0m\n\u001b[0;31m    print row\u001b[0m\n\u001b[0m            ^\u001b[0m\n\u001b[0;31mSyntaxError\u001b[0m\u001b[0;31m:\u001b[0m Missing parentheses in call to 'print'. Did you mean print(row)?\n"
          ]
        }
      ]
    },
    {
      "cell_type": "code",
      "source": [
        "for i in[12,16,17,24,29]:\n",
        "  if i % 2==1: #jika bilangan ganjil\n",
        "    break\n",
        "  print(i)\n",
        "print('selesai')"
      ],
      "metadata": {
        "colab": {
          "base_uri": "https://localhost:8080/"
        },
        "id": "PxapUbIvwyBi",
        "outputId": "f0ecb645-216f-49f1-e94f-1e409a7fd05b"
      },
      "execution_count": null,
      "outputs": [
        {
          "output_type": "stream",
          "name": "stdout",
          "text": [
            "12\n",
            "16\n",
            "selesai\n"
          ]
        }
      ]
    }
  ]
}